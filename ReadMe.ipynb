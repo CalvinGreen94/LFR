{
 "cells": [
  {
   "cell_type": "markdown",
   "metadata": {},
   "source": [
    "## Environment:\n",
    "<h2> Python Environment Dependencies</h2>\n",
    "<h4>\n",
    "    Python--V== 3.7.7<br><br>\n",
    "    Web3<br><br>\n",
    "    Infura<br><br>\n",
    "    scikit-learn<br><br>\n",
    "    aiortc<br><br>\n",
    "    flask<br><br>\n",
    "    keras=='1.2.2'<br><br>\n",
    "    tensorflow=='1.13.2'<br><br>\n",
    "    opencv =='3.4.7'<br><br>\n",
    "    dwave-systems<br><br>\n",
    "    dwave-hybrid<br><br>\n",
    "    librosa<br><br>\n",
    "    yfinance<br><br>\n",
    "    bitfinex-v2<br><br>\n",
    "    plotly<br><br><br>\n",
    "    matplotlib\n",
    "</h4>\n",
    "<h2> Installations</h2>\n",
    "<h4>MetaMask<br><br>\n",
    "    Ganache</h4><br><br>\n",
    "    Telegram/postman -->optional\n"
   ]
  },
  {
   "cell_type": "markdown",
   "metadata": {},
   "source": [
    "## Prototypes: **optional, must install telethon**\n",
    "<h4>Lafranc--------->prototypes---------> *.py</h4>"
   ]
  },
  {
   "cell_type": "markdown",
   "metadata": {},
   "source": [
    "<p><h2>LaFrancProtocol.ipynb/pyro3.py</h2><h4><br> (ERC20 via Postman for basic blockchain execution) \n",
    "pyro2.py (Telegram Client for simulating sms/mms functionality to be implemented/built as a sandbox to test on the Ethereum blockchain.)</h4></p><br>\n",
    "<p><h2>pyro2_.py</h2><h4><br>  (Implement pyro2.py for a Postman/Telegram sandox before implementing to Ganache/AioRTC/Web3 for the Ethereum testnet.)</h4></p><br>\n",
    "<p><h2>moms.py</h2><h4><br>  (Implement a basic WebRTC webcam application via Web3,AIORTC (before moving to the Ganache client while still being a user on the Ethereum testnet).)</h4>"
   ]
  },
  {
   "cell_type": "markdown",
   "metadata": {},
   "source": [
    "# DawnLaFranc'  $LFR"
   ]
  },
  {
   "cell_type": "markdown",
   "metadata": {},
   "source": [
    "<h4>Lafranc--------->aiortc--------->DFproto--------->df </h4>"
   ]
  },
  {
   "cell_type": "markdown",
   "metadata": {},
   "source": [
    "<h2><font color='red'>\n",
    "    <p>Step0:</p></font></h2>  \n",
    "    <li>fulldataimport.py</li>\n",
    "    <p>Download/import data from yfinance/bitfinex</p><br>\n",
    "<h2><font color='red'>\n",
    "    <p>Step1:</p></font></h2>  \n",
    "    <li>DFrtc.py</li>\n",
    "        <p> Use of (sklearn)Linear Regression/(librosa/sklearn)signal analysis(time,[volume]),RootMeanSquaredEnergy</p><br>\n",
    "        <p><h4><font color='blue'>Analyze the signal charts that are provided based from the current data and the animated signals <h7>*line125</h7></font></h4>\n",
    "    <p>Data has been engineered to make a compatible simulation environment</p>\n",
    "    <li>Time,Open,High,Low,Close,Volume,1LFR,750LFR,500LFR,250LFR</li><br><br>\n",
    "    <p>Based on the data collected, Being that the entire cost of 1 Dawn token would be equal to 1LFR , this will be the variable used for correlation, market stabilization as well as market backtesting throughout the execution. At the current time 1 Dawn token is equal to $0.78 USD.\n",
    "\n",
    "<h2><font color='red'>\n",
    "    <p>Step2:</p></font></h2>\n",
    "        <li>Dwave_quantum_featsel.ipynb</li>\n",
    "        <p> Use of Dwave Quantum Computing for feature selection for the most optimal feature to train on i.e(Open,High,1LFR,...etc) to implement inside of the Market Stabilization Algorithm</p><br>  \n",
    "        \n",
    "<h2><font color='red'>\n",
    "    <p>Step3:</p></font></h2>  \n",
    "    <li>python train4.py anotherconcat 75 200</li>\n",
    "        <p>Input the most optimal feature for training into the simulation for analyzing market activity based on the Dawn Token</p><br>\n",
    "        <p><h4><font color='blue'>Determine if Dawn is healthy/unhealthy based on market activity with 1LFR(1Dawn) being the training feature of the simulation.</font><h4>\n",
    "        <p>Via Ganache, the AI backtest is now implemented on the Ethereum testnet/randomly generated room nuLFRers and is minting,sending,receiving,verifying transactions within the testnet/wallets to optimize market stabilization for users to have the best price at the best time as well as developers to increase revenue in the future based on the volume of certain applications deployed via WebRTC,IPFS,IPNS.</p> Soon to trade itself between 4 wallets depending on the amount of data used from simulation environment while optimizing market stability given a +/-10 fluctuation of the Dawn token price for added complexity for the dAIsy oracle while analyzing signals from the initial DFrtc.py script.</h2><br><br>\n",
    "        \n",
    "<font color='purple'>\n",
    "    <p><h1>Step4:</h1></p></font>\n",
    "        <li>Blackjack via openAI-gym/Metamask</li>\n",
    "        <p>Implement Monte Carlo Reinforcement Algorithm via Metamask for a decentralized blackjack Dapp</p><br>  \n",
    "        \n",
    "<h2><font color='red'>\n",
    "    <p></p>cd ../path/to/df/</font></h2>  \n",
    "    <li>python jackedmasked.py</li>\n",
    "\n",
    "\n",
    "        "
   ]
  },
  {
   "cell_type": "markdown",
   "metadata": {},
   "source": [
    "https://docs.google.com/document/d/12o0SXhVLrq5J5rbGFeH3DjHbPi1F7sCMkCFS-8Uroxc/edit?usp=sharing\n",
    "\n",
    "\n",
    "\n",
    "ProjectGamma.AI, Calvin Green\n",
    "BlackJack (21) Reinforcement Algorithm via OpenAI Gym,Web3,Ganache,ETH,WebRTC,Metamask\n",
    "dAIsy21 - (Non-deterministic/deterministic  hybrid AI systems) \n",
    "Compete with real ETH against “dAIsy”, the AI blackjack dealer<br><br>\n",
    "\n",
    "\n",
    "What/Who is dAIsy21?\n",
    "dAIsy21 offers a solution for Casino table  lovers to compete solo or with other players in real time against ”dAIsy”, the Artificial Intelligence house dealer.  The Goal of dAIsy21 would be along the lines of having a fair match, with counting cards out the question, and less public aggression/ anxiety,  because the only input that matters on the players behalf is how much they want to bid , stake and an Ethereum wallet address/private keys.<br><br> “dAIsy” will deal the hand dealt and the game can last 10 seconds to >20 minutes depending on the state of the current game. \n",
    "How Does it work?<br><br>\n",
    "There will be a maximum of 5 players which will be able to bid/stake however much they feel necessary. The payout will be based on the current payout structure of blackjack but with an incentive of this game being a quick,  low cost method of different classes i.e. less amount to bid and more expensive to bid for entering the house.<br><br> Also other than going to a casino and enduring that which can be a painful experience, dAIsy21 brings gambling to the safety and comfort of a players home. \n",
    "The exchanges are going through the players ETH wallets so each transaction will be verified on the blockchain as well as every win/loss will be served on its own network via IPFS. <br><br>Being the protocol is based on ETH, you will be able to play with people across the globe while at a cafe, on a plane (depending on how the Ethereum Satellite plays out November 20,2020, or just at a get together in your kitchen.\n",
    "\n",
    "\n",
    "\n",
    "Will casinos hate this concept? <br><br>\n",
    "Honestly I have no idea or do I care but most likely they will hate themselves if they haven’t already started implementing this and it’s their own fault.  I see this as a way for gambling to change the way it can be operated, and dAIsy21 is one of many steps to being one of the first scalable low-level decentralized social apps for the interplanetary gambling market for games likes Craps, Blackjack,War, etc..\n",
    "<br><br>\n",
    "What will be the advantages of blockchain gambling:<br><br> \n",
    "Blockchain is  basically unhackable, so the casino gets the highest level of financial security<br><br>\n",
    "Fast cross-border transactions without fees in the blockchain network <br><br>\n",
    "Players have full ownership of their money, as this information is registered on the blockchain ledger. The data cannot be<br><br> tampered with in any way\n",
    "Playable money becomes liquid and easier to manage<br><br>\n",
    "Blockchain enables P2P transactions<br><br>\n",
    "Biometric security (enabled by a mobile app).<br><br>\n",
    "Players can be allowed to borrow money from other players. <br><br>\n",
    "WebRTC communications<br><br>\n",
    "Use of various Cryptocurrency platforms.. In this case Metamask<br><br>\n",
    "It’s fun and informational <br><br>\n",
    "To run this Program: <br><br>\n",
    "Install Ganache Client <br><br>\n",
    "Install Ipfs Desktop (Windows , Mac, Linux) <br><br>\n",
    "Once installed open Ganache and create an Ethereum environment for testnet -->optional <br><br>  \n",
    "Python Ver: 3.7.7 <br><br>\n",
    "Install requirements.txt file > pip install requirements.txt -r **WIP<br><br>\n",
    "Navigate to ../Lafranc/aiortc/DFproto/df <br><br>\n",
    "Run python jacked.py  > install necessary dependencies (testnet)viaWeb3,Ganache or Metamask->Ropsten.. <br><br>\n",
    "Ganache addresses can be used if you create a custom RPC host.<br><br>\n",
    "<br><br> Get test Ethereum here if not using Ganache keys https://faucet.ropsten.be/<br><br>\n",
    "input ETH wallet addresses/private keys via Metamask or Ganache to house dealer, and players Address input via CoinbasePro API. Payouts will be in ETH but equal  to 1LaFranc Token. <br><br>\n",
    "** Note: ANYONE CAN BE A HOUSE DEALER AND HAVE PLAYERS. But dAIsy is the main house,to borrow funds you will need to be <br><br>connected to the official house. The house Holds the stake/collateral via Dai Maker protocol(WIP).<br><br>\n",
    "\n",
    "Players1-2 = MetaMask\n",
    "Players3-5 = Ganache** Still Under Development**\n"
   ]
  },
  {
   "cell_type": "code",
   "execution_count": null,
   "metadata": {},
   "outputs": [],
   "source": []
  }
 ],
 "metadata": {
  "kernelspec": {
   "display_name": "Python 3",
   "language": "python",
   "name": "python3"
  },
  "language_info": {
   "codemirror_mode": {
    "name": "ipython",
    "version": 3
   },
   "file_extension": ".py",
   "mimetype": "text/x-python",
   "name": "python",
   "nbconvert_exporter": "python",
   "pygments_lexer": "ipython3",
   "version": "3.7.7"
  },
  "latex_envs": {
   "LaTeX_envs_menu_present": true,
   "autoclose": false,
   "autocomplete": true,
   "bibliofile": "biblio.bib",
   "cite_by": "apalike",
   "current_citInitial": 1,
   "eqLabelWithNumbers": true,
   "eqNumInitial": 1,
   "hotkeys": {
    "equation": "Ctrl-E",
    "itemize": "Ctrl-I"
   },
   "labels_anchors": false,
   "latex_user_defs": false,
   "report_style_numbering": true,
   "user_envs_cfg": false
  }
 },
 "nbformat": 4,
 "nbformat_minor": 4
}
